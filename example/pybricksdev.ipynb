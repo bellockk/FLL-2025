{
 "cells": [
  {
   "cell_type": "code",
   "execution_count": 8,
   "metadata": {},
   "outputs": [],
   "source": [
    "from pybricksdev.connections.pybricks import PybricksHub\n",
    "from pybricksdev.ble import find_device, nus\n",
    "from asyncio import gather, sleep\n",
    "import logging"
   ]
  },
  {
   "cell_type": "code",
   "execution_count": 11,
   "metadata": {},
   "outputs": [],
   "source": [
    "hub = PybricksHub()\n",
    "address = await find_device('batman')\n",
    "await hub.connect(address)"
   ]
  },
  {
   "cell_type": "code",
   "execution_count": null,
   "metadata": {},
   "outputs": [],
   "source": [
    "%%file build/main.py\n",
    "\n",
    "from pybricks.pupdevices import Motor\n",
    "from pybricks.parameters import Port\n",
    "from pybricks.tools import wait\n",
    "\n",
    "motor = Motor(Port.A)x\n",
    "\n",
    "for i in range(3):\n",
    "    motor.run_angle(500, 360)\n",
    "    print(\"Hello!\", i)\n",
    "    wait(1000)"
   ]
  },
  {
   "cell_type": "code",
   "execution_count": null,
   "metadata": {},
   "outputs": [],
   "source": [
    "await hub.run('build/main.py')"
   ]
  },
  {
   "cell_type": "code",
   "execution_count": null,
   "metadata": {},
   "outputs": [],
   "source": [
    "await hub.disconnect()"
   ]
  }
 ],
 "metadata": {
  "kernelspec": {
   "display_name": "fll",
   "language": "python",
   "name": "python3"
  },
  "language_info": {
   "codemirror_mode": {
    "name": "ipython",
    "version": 3
   },
   "file_extension": ".py",
   "mimetype": "text/x-python",
   "name": "python",
   "nbconvert_exporter": "python",
   "pygments_lexer": "ipython3",
   "version": "3.12.5"
  }
 },
 "nbformat": 4,
 "nbformat_minor": 2
}
